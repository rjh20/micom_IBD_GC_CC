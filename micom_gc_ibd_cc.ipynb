{
 "cells": [
  {
   "cell_type": "markdown",
   "id": "1120f731-04c1-4b26-b670-b50c1db69987",
   "metadata": {},
   "source": [
    "This script contains the code for MICOM for all 3 diseases- Inflammatory Bowel Disease (IBD), Gastric Cancer (GC) and Colorectal Cancer (CC). \n",
    "\n",
    "The code is repeated and in seperate cells for each disease due to the long time and processing power it takes to run each model."
   ]
  },
  {
   "cell_type": "markdown",
   "id": "11c4472e-8806-40a7-85a0-5db713501de2",
   "metadata": {},
   "source": [
    "### Install all required packages:"
   ]
  },
  {
   "cell_type": "code",
   "execution_count": null,
   "id": "4b2f77bc-6319-4b81-9bb7-f5e0105453d2",
   "metadata": {},
   "outputs": [],
   "source": [
    "! pip install micom \n",
    "! pip install numpy Cython\n",
    "! pip install biom-format\n",
    "! pip install wget\n",
    "! pip install pickleshare"
   ]
  },
  {
   "cell_type": "markdown",
   "id": "54486f6d-5f13-4fbf-886a-0b433227a919",
   "metadata": {},
   "source": [
    "### Import all required libraries and functions:"
   ]
  },
  {
   "cell_type": "code",
   "execution_count": null,
   "id": "0e01a0f9-1deb-4bee-834c-246672c78666",
   "metadata": {},
   "outputs": [],
   "source": [
    "#for data manipulation:\n",
    "import pandas as pd\n",
    "import numpy as np\n",
    "import pickle\n",
    "#for building community:\n",
    "from micom.workflows import build\n",
    "from micom import Community\n",
    "from micom.qiime_formats import load_qiime_medium\n",
    "from micom.workflows import grow\n",
    "from micom.workflows import tradeoff\n",
    "import wget\n",
    "#for visualizing results:\n",
    "from micom.viz import plot_growth\n",
    "from micom.viz import plot_exchanges_per_sample\n",
    "from micom.viz import plot_exchanges_per_taxon\n",
    "from micom.viz import plot_association\n",
    "from micom.measures import production_rates\n",
    "from micom.viz import plot_mes\n",
    "from micom.viz import plot_tradeoff"
   ]
  },
  {
   "cell_type": "markdown",
   "id": "2cc40b52-cb70-4bc0-b591-ed74016d874e",
   "metadata": {},
   "source": [
    "### Import required data:"
   ]
  },
  {
   "cell_type": "markdown",
   "id": "79fb4f38-6454-492b-b203-e698ff02064c",
   "metadata": {},
   "source": [
    "#### IBD Dataset:"
   ]
  },
  {
   "cell_type": "code",
   "execution_count": null,
   "id": "817dc552-c22f-4c3d-af1c-f7d5316bf7a8",
   "metadata": {},
   "outputs": [],
   "source": [
    "#create data frame of the genus data:\n",
    "IBD_genus = 'genera_IBD.csv'\n",
    "IBD_genus_df = pd.read_csv(format(IBD_genus))\n",
    "#Extract the disease column:\n",
    "disease_ibd = list(IBD_genus_df['Group'])\n",
    "#Remove this from the data frame:\n",
    "IBD_genus_df = IBD_genus_df.drop('Group', axis = 1)\n",
    "#Set sample_id the index:\n",
    "IBD_genus_df.set_index('Sample_ID', inplace=True)"
   ]
  },
  {
   "cell_type": "markdown",
   "id": "8ad5ca5a-3ac0-436c-b8e9-4ae55d8767b4",
   "metadata": {},
   "source": [
    "#### Gastric Cancer Dataset:"
   ]
  },
  {
   "cell_type": "code",
   "execution_count": null,
   "id": "e573f684-60f2-4126-9e56-998f83f39add",
   "metadata": {},
   "outputs": [],
   "source": [
    "#create data frame of the genus data:\n",
    "GC_genus = 'genera_GC.csv'\n",
    "GC_genus_df = pd.read_csv(format(GC_genus))\n",
    "#Extract the disease column:\n",
    "disease_gc = list(GC_genus_df['Group'])\n",
    "#Remove this from the data frame:\n",
    "GC_genus_df = GC_genus_df.drop('Group', axis = 1)\n",
    "#Set sample_id the index:\n",
    "GC_genus_df.set_index('Sample_ID', inplace=True)"
   ]
  },
  {
   "cell_type": "markdown",
   "id": "9daa737f-a0ab-472a-8eee-0067dfdbe578",
   "metadata": {},
   "source": [
    "#### Colorectal Cancer Dataset:"
   ]
  },
  {
   "cell_type": "code",
   "execution_count": null,
   "id": "5430a3f3-d91d-4b8a-935b-eaee307cce3c",
   "metadata": {},
   "outputs": [],
   "source": [
    "#create data frame of the genus data:\n",
    "CC_genus = 'genera_CC.csv'\n",
    "CC_genus_df = pd.read_csv(format(CC_genus))\n",
    "#Extract the disease column:\n",
    "disease_cc = list(CC_genus_df['Group'])\n",
    "#Remove this from the data frame:\n",
    "CC_genus_df = CC_genus_df.drop('Group', axis = 1)\n",
    "#Set sample_id the index:\n",
    "CC_genus_df.set_index('Sample_ID', inplace=True)"
   ]
  },
  {
   "cell_type": "markdown",
   "id": "1cdaf6b4-6fea-453f-8b82-40fe098b78d0",
   "metadata": {},
   "source": [
    "### Make required long form data:"
   ]
  },
  {
   "cell_type": "markdown",
   "id": "2e3e0341-3706-495e-aadc-e34d61d94c36",
   "metadata": {},
   "source": [
    "#### IBD Dataset:"
   ]
  },
  {
   "cell_type": "code",
   "execution_count": null,
   "id": "69ab3969-998b-421c-8621-aa9b931be025",
   "metadata": {},
   "outputs": [],
   "source": [
    "#melt:\n",
    "dfm_ibd = IBD_genus_df.melt(ignore_index=False).reset_index()\n",
    "dfm_ibd.rename(columns={'Sample_ID': 'sample_id', 'value': 'relative', 'variable': 'genus'}, inplace=True)\n",
    "#create required id column for manifest function:\n",
    "dfm_ibd['id'] = dfm_ibd['genus']\n",
    "#add disease group column onto the data dataframe:\n",
    "dfm_ibd['disease_stat'] = disease_ibd*83\n",
    "#save as new file:\n",
    "dfm_ibd.to_csv('data_long_form_IBD.csv')"
   ]
  },
  {
   "cell_type": "markdown",
   "id": "4c8c3d9f-9102-4d0d-a94f-4ba9231a6819",
   "metadata": {},
   "source": [
    "#### Gastric Cancer Dataset:"
   ]
  },
  {
   "cell_type": "code",
   "execution_count": null,
   "id": "d2f4a972-f373-44ad-a2a9-fee10cbb53dc",
   "metadata": {},
   "outputs": [],
   "source": [
    "#melt:\n",
    "dfm_gc = GC_genus_df.melt(ignore_index=False).reset_index()\n",
    "dfm_gc.rename(columns={'Sample_ID': 'sample_id', 'value': 'relative', 'variable': 'genus'}, inplace=True)\n",
    "#create required id column for manifest function:\n",
    "dfm_gc['id'] = dfm_gc['genus']\n",
    "#add disease group column onto the data dataframe:\n",
    "dfm_gc['disease_stat'] = disease_gc*59\n",
    "#save as new file:\n",
    "dfm_gc.to_csv('data_long_form_GC.csv')"
   ]
  },
  {
   "cell_type": "markdown",
   "id": "a228188e-f4f1-4cb8-9938-43d46ec31cf1",
   "metadata": {},
   "source": [
    "#### Colorectal Cancer Dataset:"
   ]
  },
  {
   "cell_type": "code",
   "execution_count": null,
   "id": "1956d5ce-3676-4c09-b95f-d4ede4662e4c",
   "metadata": {},
   "outputs": [],
   "source": [
    "#melt:\n",
    "dfm_cc = CC_genus_df.melt(ignore_index=False).reset_index()\n",
    "dfm_cc.rename(columns={'Sample_ID': 'sample_id', 'value': 'relative', 'variable': 'genus'}, inplace=True)\n",
    "#create required id column for manifest column:\n",
    "dfm_cc['id'] = dfm_cc['genus']\n",
    "#add disease group column onto the data dataframe:\n",
    "dfm_cc['disease_stat'] = disease_cc*82\n",
    "#save as a new file:\n",
    "dfm_cc.to_csv('data_long_form_CC.csv')"
   ]
  },
  {
   "cell_type": "markdown",
   "id": "243a44ef-dcd7-4424-b682-15265dcbfa19",
   "metadata": {},
   "source": [
    "#### The resulting dataframes should have:"
   ]
  },
  {
   "cell_type": "markdown",
   "id": "c2a85956-faf3-4fc1-bb8f-1c5452163af7",
   "metadata": {},
   "source": [
    "Column 1) sample_id - the sample each measure corresponds to\n",
    "\n",
    "Column 2) genus - the genus being measured\n",
    "\n",
    "Column 3) relative - the relative abunance of the genus for that sample\n",
    "\n",
    "Column 4) id- same as genus essentially but required by the model\n",
    "\n",
    "Column 5) disease_status - if the sample the measure comes from has IBD or not. \n",
    "\n",
    "Optional: Column 6) The family corresponding to each genus."
   ]
  },
  {
   "cell_type": "markdown",
   "id": "b114142e-40a7-4760-9075-f80a0d4ca8d1",
   "metadata": {},
   "source": [
    "### Obtain required AGORA database and diet data:"
   ]
  },
  {
   "cell_type": "code",
   "execution_count": null,
   "id": "ce26073e-5a9e-40fa-a6d4-ab9fb6b89547",
   "metadata": {},
   "outputs": [],
   "source": [
    "!python -m wget -o agora103_genus.qza https://zenodo.org/record/3755182/files/agora103_genus.qza?download=1\n",
    "!python -m wget -o western_diet_gut.qza https://zenodo.org/record/3755182/files/western_diet_gut.qza?download=1"
   ]
  },
  {
   "cell_type": "markdown",
   "id": "3a438d35-9165-43c0-b967-4453006abb3d",
   "metadata": {},
   "source": [
    "## Builiding the manifest:"
   ]
  },
  {
   "cell_type": "code",
   "execution_count": null,
   "id": "38f570f2-6ad0-4473-a84a-a88e91bff534",
   "metadata": {},
   "outputs": [],
   "source": [
    "manifest_ibd = build(dfm_ibd, \"agora103_genus.qza\", \"gen_mod_ibd\", solver=\"osqp\",\n",
    "                 cutoff=0, threads=2) #gen_mod_ibd is the name of a folder to store the results to "
   ]
  },
  {
   "cell_type": "code",
   "execution_count": null,
   "id": "c9a738bc-fe9b-47d6-a934-8a7ff25f3488",
   "metadata": {},
   "outputs": [],
   "source": [
    "manifest_gc = build(dfm_gc, \"agora103_genus.qza\", \"gen_mod_gc\", solver=\"osqp\",\n",
    "                 cutoff=0, threads=2) #gen_mod_gc is the name of a folder to store the results to "
   ]
  },
  {
   "cell_type": "code",
   "execution_count": null,
   "id": "206e34d9-0f9b-4674-9414-55436ac74324",
   "metadata": {},
   "outputs": [],
   "source": [
    "manifest_cc = build(dfm_cc, \"agora103_genus.qza\", \"gen_mod_cc\", solver=\"osqp\",\n",
    "                 cutoff=0, threads=2) #gen_mod_ibd is the name of a folder to store the results to "
   ]
  },
  {
   "cell_type": "markdown",
   "id": "40257fcf-e7ba-426a-bed0-d68ef81d502e",
   "metadata": {},
   "source": [
    "## Finding Optimal Tradeoff:"
   ]
  },
  {
   "cell_type": "code",
   "execution_count": null,
   "id": "d73cdf9e-0198-46f2-8eba-ee5ab5203ab8",
   "metadata": {},
   "outputs": [],
   "source": [
    "#load the diet data:\n",
    "medium = load_qiime_medium(\"western_diet_gut.qza\")"
   ]
  },
  {
   "cell_type": "code",
   "execution_count": null,
   "id": "12c25f4e-c272-48b6-94b6-b5a7fc9d86c5",
   "metadata": {},
   "outputs": [],
   "source": [
    "#Testing different trade-off values:\n",
    "#IBD:\n",
    "tradeoff_results_ibd = tradeoff(manifest_ibd, \"gen_mod_ibd\", medium, threads=2)\n",
    "tradeoff_results_ibd.to_csv(\"tradeoff_ibd.csv\", index=False)\n",
    "#GC:\n",
    "tradeoff_results_gc = tradeoff(manifest_gc, \"gen_mod_gc\", medium, threads=2)\n",
    "tradeoff_results_gc.to_csv(\"tradeoff_gc.csv\", index=False)\n",
    "#CC:\n",
    "tradeoff_results_cc = tradeoff(manifest_cc, \"gen_mod_cc\", medium, threads=2)\n",
    "tradeoff_results_cc.to_csv(\"tradeoff_cc.csv\", index=False)"
   ]
  },
  {
   "cell_type": "markdown",
   "id": "8a078bcd-8998-4f0a-b4fb-76a7298c20b7",
   "metadata": {},
   "source": [
    "## Obtaining the growth model:"
   ]
  },
  {
   "cell_type": "markdown",
   "id": "5b0e79aa-284b-4ffa-86c7-f47a4e494d7e",
   "metadata": {},
   "source": [
    "Using the optimal tradeoff value as ascertained from above:"
   ]
  },
  {
   "cell_type": "code",
   "execution_count": null,
   "id": "1ac60814-43ab-43c3-b515-856753a3da52",
   "metadata": {},
   "outputs": [],
   "source": [
    "#IBD:\n",
    "growth_results_ibd = grow(manifest_ibd, \"gen_mod_ibd\", medium, tradeoff=0.9, threads=2) #store to the same folder\n",
    "# Save the individual results to a file:\n",
    "pickle.dump(growth_results_ibd, open(\"growth.pickle_ibd\", \"wb\"))\n",
    "#GC:\n",
    "growth_results_gc = grow(manifest_gc, \"gen_mod_gc\", medium, tradeoff=0.8, threads=2) #store to the same folder\n",
    "# Save the individual results to a file:\n",
    "pickle.dump(growth_results_gc, open(\"growth.pickle_gc\", \"wb\"))\n",
    "#CC:\n",
    "growth_results_cc = grow(manifest_cc, \"gen_mod_cc\", medium, tradeoff=0.7, threads=2) #store to the same folder\n",
    "# Save the individual results to a file:\n",
    "pickle.dump(growth_results_ibd, open(\"growth.pickle_cc\", \"wb\"))"
   ]
  },
  {
   "cell_type": "markdown",
   "id": "959bc225-b9e2-4de1-8528-3b81137c0387",
   "metadata": {},
   "source": [
    "## Visualising results:"
   ]
  },
  {
   "cell_type": "code",
   "execution_count": null,
   "id": "f1017ad0-34ad-43f3-bdfb-9ddd8e161adc",
   "metadata": {},
   "outputs": [],
   "source": [
    "#Visualize the growth rates:\n",
    "pl = plot_growth(growth_results_ibd, filename=\"growth_rates_IBD.html\")\n",
    "pl = plot_growth(growth_results_gc, filename=\"growth_rates_GC.html\")\n",
    "pl = plot_growth(growth_results_cc, filename=\"growth_rates_CC.html\")\n",
    "\n",
    "#Visulaize how the metabolites are exchanged between samples:\n",
    "pl = plot_exchanges_per_sample(growth_results_ibd, filename=\"consumption_IBD.html\")\n",
    "pl = plot_exchanges_per_sample(growth_results_gc, filename=\"consumption_GC.html\")\n",
    "pl = plot_exchanges_per_sample(growth_results_cc, filename=\"consumption_CC.html\")\n",
    "\n",
    "#Visualize how the metabolites are exchaned between the genus:\n",
    "pl = plot_exchanges_per_taxon(growth_results_ibd, filename=\"niche_IBD.html\")\n",
    "pl = plot_exchanges_per_taxon(growth_results_gc, filename=\"niche_GC.html\")\n",
    "pl = plot_exchanges_per_taxon(growth_results_cc, filename=\"niche_CC.html\")"
   ]
  },
  {
   "cell_type": "markdown",
   "id": "4cef956f-4628-40d9-bc01-9ed98df1a601",
   "metadata": {},
   "source": [
    "## Testing for significant metabolites:"
   ]
  },
  {
   "cell_type": "code",
   "execution_count": null,
   "id": "3c4b11da-27c2-4284-b9ad-1b22225b819b",
   "metadata": {},
   "outputs": [],
   "source": [
    "#reset the index of the manifest to the sample id:\n",
    "manifest_ibd.index = manifest_ibd.sample_id\n",
    "manifest_gc.index = manifest_gc.sample_id\n",
    "manifest_cc.index = manifest_cc.sample_id\n",
    "\n",
    "#extract the disease status to use for the phenotype:\n",
    "pheno_ibd = manifest_ibd.disease_stat\n",
    "pheno_gc = manifest_gc.disease_stat\n",
    "pheno_cc = manifest_cc.disease_stat\n",
    "\n",
    "#find associations between metabolites and disease:\n",
    "pl = plot_association(growth_results_ibd,phenotype= pheno_ibd,variable_type=\"binary\",filename=\"association_IBD.html\",fdr_threshold=0.5)\n",
    "pl = plot_association(growth_results_gc,phenotype= pheno_gc,variable_type=\"binary\",filename=\"association_GC.html\",fdr_threshold=0.5)\n",
    "pl = plot_association(growth_results_cc,phenotype= pheno_cc,variable_type=\"binary\",filename=\"association_CC.html\",fdr_threshold=0.5)"
   ]
  }
 ],
 "metadata": {
  "kernelspec": {
   "display_name": "Python 3 (ipykernel)",
   "language": "python",
   "name": "python3"
  },
  "language_info": {
   "codemirror_mode": {
    "name": "ipython",
    "version": 3
   },
   "file_extension": ".py",
   "mimetype": "text/x-python",
   "name": "python",
   "nbconvert_exporter": "python",
   "pygments_lexer": "ipython3",
   "version": "3.12.4"
  }
 },
 "nbformat": 4,
 "nbformat_minor": 5
}
